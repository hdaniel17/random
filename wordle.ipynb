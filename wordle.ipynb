{
 "cells": [
  {
   "cell_type": "markdown",
   "source": [
    "## Wordle"
   ],
   "metadata": {
    "collapsed": false
   },
   "id": "c4d4d0e82cc53793"
  },
  {
   "cell_type": "code",
   "execution_count": 112,
   "id": "initial_id",
   "metadata": {
    "collapsed": true,
    "ExecuteTime": {
     "end_time": "2024-06-14T05:17:48.541212900Z",
     "start_time": "2024-06-14T05:17:48.529288700Z"
    }
   },
   "outputs": [],
   "source": [
    "import pandas as pd\n",
    "import random\n",
    "import numpy as np\n",
    "from docplex.cp.model import CpoModel"
   ]
  },
  {
   "cell_type": "code",
   "outputs": [],
   "source": [
    "def score(guess, todays_word):\n",
    "    score = ['?'] * 5  # X represents gray\n",
    "    todays_word = list(todays_word)\n",
    "    \n",
    "    for i in range(5):  # Green letters first ($)\n",
    "        if guess[i] == todays_word[i]:\n",
    "            todays_word[i] = '$'\n",
    "            score[i] = '$'\n",
    "            \n",
    "    for i in range(5):  # Yellow letters (%)\n",
    "        if score[i] != '$' and guess[i] in todays_word:\n",
    "            score[i] = '%'\n",
    "            replace_index = ''.join(todays_word).find(guess[i])\n",
    "            todays_word[replace_index] = '%'  # This should not be i but whatever index matches\n",
    "            \n",
    "    return score"
   ],
   "metadata": {
    "collapsed": false,
    "ExecuteTime": {
     "end_time": "2024-06-14T05:17:48.829031400Z",
     "start_time": "2024-06-14T05:17:48.826856700Z"
    }
   },
   "id": "8ecea5103076f5e8",
   "execution_count": 113
  },
  {
   "cell_type": "code",
   "outputs": [],
   "source": [
    "def cp_model(valid_words, guess_outcomes):\n",
    "    if not guess_outcomes:  # Initial Guess \n",
    "        return 'arose'\n",
    "    \n",
    "    num_letters = 26\n",
    "    num_pos = 5\n",
    "    num_guesses = len(guess_outcomes)\n",
    "    \n",
    "    guess_hist = [[ord(letter) - 97 for letter in list(prev[0])] for prev in guess_outcomes]\n",
    "    \n",
    "    num_correct = [prev[1].count('$') for prev in guess_outcomes]\n",
    "    num_present = [prev[1].count('%') for prev in guess_outcomes]\n",
    "    \n",
    "    m = CpoModel()\n",
    "    \n",
    "    # Decision Variables\n",
    "    w = m.integer_var_list(num_pos, min=0, max=num_letters-1, name='w')  # Guess\n",
    "    numberSolution = m.integer_var_list(num_letters,min=0,max=4, name=\"numberSolution\")  # Max is 4 bc no 5 letter word is all 1 character (probably actually 3)\n",
    "    numberLetterPresent = m.integer_var_dict(((g,l) for g in range(num_guesses) for l in range(num_letters)),min=0,max=num_pos,name=\"numberLetterPresent\")\n",
    "    numberLetterRight = m.integer_var_dict(((g,l) for g in range(num_guesses) for l in range(num_letters)),min=0,max=num_pos,name=\"numberLetterRight\")\n",
    "    # test = m.integer_var_list(num_pos,min=0,max=num_letters-1,name=\"test\")\n",
    "    \n",
    "    # Constraints\n",
    "    # Guesses are in the word list and not already guessed\n",
    "    m.add(m.allowed_assignments(w, [[ord(letter) - 97 for letter in list(word)] for word in valid_words]))\n",
    "    m.add(m.forbidden_assignments(w, guess_hist))\n",
    "    \n",
    "    for p in range(num_pos):\n",
    "        if guess_outcomes[-1][1][p] == '$':\n",
    "            m.add(w[p] == guess_hist[-1][p])\n",
    "        elif guess_outcomes[-1][1][p] == '%':  # This needs to be 0 + right, maybe make a num right dvar???\n",
    "            m.add(numberSolution[guess_hist[-1][p]] > 0)\n",
    "        else:  # This needs to be for every previous guess\n",
    "            m.add(numberSolution[guess_hist[-1][p]] == 0)  #Change to num already right\n",
    "    \n",
    "    for guess in range(num_guesses):\n",
    "        # Correct number of correct letters\n",
    "        m.add(m.sum((w[p] == guess_hist[guess][p]) * 1 for p in range(5)) == num_correct[guess])\n",
    "        # Correct number of present letters\n",
    "        m.add(m.sum((numberLetterPresent[guess,letter] >= 1) for letter in range(num_letters)) == num_present[guess])\n",
    "    \n",
    "    for letter in range(num_letters):\n",
    "        # Number of times a letter appears in the solution\n",
    "        m.add(numberSolution[letter] == m.sum(w[p] == letter for p in range(5)))\n",
    "    \n",
    "    for guess in range(num_guesses):\n",
    "        for letter in range(num_letters):\n",
    "            # Number of times a letter in the guess is present\n",
    "            m.add(numberLetterPresent[guess,letter] == m.sum(((guess_hist[guess][p] == letter) & (w[p] != letter) & (numberSolution[letter] > numberLetterRight[guess, letter])) * 1 for p in range(num_pos)))\n",
    "            # Number of times a letter in the guess is correct\n",
    "            m.add(numberLetterRight[guess,letter] == m.sum(((guess_hist[guess][p] == letter) & (w[p] == letter)) * 1 for p in range(num_pos)))\n",
    "  \n",
    "\n",
    "    # Solve\n",
    "    mGuess = m.solve()  #m.solve(LogVerbosity='Quiet')\n",
    "    mGuessStr = \"\"\n",
    "    num = mGuess.get_all_var_solutions()\n",
    "    \n",
    "    for i in range(num_pos):\n",
    "        mGuessStr += chr(num[i].get_value() + 97)\n",
    "    return mGuessStr"
   ],
   "metadata": {
    "collapsed": false,
    "ExecuteTime": {
     "end_time": "2024-06-14T05:19:24.307194Z",
     "start_time": "2024-06-14T05:19:24.298639400Z"
    }
   },
   "id": "7de5723219f197b5",
   "execution_count": 120
  },
  {
   "cell_type": "code",
   "outputs": [],
   "source": [
    "def play(manual_score=False):\n",
    "    valid_words = list(set(open('Data/wordle_valid_guesses.txt').read().lower().splitlines()))\n",
    "    \n",
    "    if not manual_score:\n",
    "        todays_word = random.choice(valid_words)\n",
    "        print(todays_word)\n",
    "        guess_outcomes = []\n",
    "        n=0\n",
    "        while True:\n",
    "            guess = cp_model(valid_words, guess_outcomes)\n",
    "            print(guess)\n",
    "            output = score(guess, todays_word)\n",
    "            print(output)\n",
    "            if output == list('$$$$$'):  # $ - green, ? - gray, % - yellow\n",
    "                break\n",
    "            guess_outcomes.append((guess, output))\n",
    "            n += 1\n",
    "            \n",
    "    return n"
   ],
   "metadata": {
    "collapsed": false,
    "ExecuteTime": {
     "end_time": "2024-06-14T05:19:24.677479Z",
     "start_time": "2024-06-14T05:19:24.672260100Z"
    }
   },
   "id": "8974c7762675968f",
   "execution_count": 121
  },
  {
   "cell_type": "code",
   "outputs": [
    {
     "name": "stdout",
     "output_type": "stream",
     "text": [
      "tease\n",
      "arose\n",
      "['%', '?', '?', '$', '$']\n",
      " ! --------------------------------------------------- CP Optimizer 22.1.0.0 --\n",
      " ! Satisfiability problem - 83 variables, 87 constraints\n",
      " ! Presolve      : 24 extractables eliminated, 1 constraint generated\n",
      " ! Initial process time : 0.02s (0.02s extraction + 0.00s propagation)\n",
      " !  . Log search space  : 38.6 (before), 38.6 (after)\n",
      " !  . Memory usage      : 367.6 kB (before), 367.6 kB (after)\n",
      " ! Using parallel search with 8 workers.\n",
      " ! ----------------------------------------------------------------------------\n",
      " !               Branches  Non-fixed    W       Branch decision\n",
      " *                      2  0.03s        1        10  = w_1\n",
      " ! ----------------------------------------------------------------------------\n",
      " ! Search completed, 1 solution found.\n",
      " ! ----------------------------------------------------------------------------\n",
      " ! Number of branches     : 44\n",
      " ! Number of fails        : 13\n",
      " ! Total memory usage     : 12.0 MB (11.9 MB CP Optimizer + 0.0 MB Concert)\n",
      " ! Time spent in solve    : 0.04s (0.02s engine + 0.02s extraction)\n",
      " ! Search speed (br. / s) : 4000.0\n",
      " ! ----------------------------------------------------------------------------\n",
      "ukase\n",
      "['?', '?', '$', '$', '$']\n",
      " ! --------------------------------------------------- CP Optimizer 22.1.0.0 --\n",
      " ! Satisfiability problem - 135 variables, 141 constraints\n",
      " ! Initial process time : 0.03s (0.03s extraction + 0.00s propagation)\n",
      " !  . Log search space  : 16.6 (before), 16.6 (after)\n",
      " !  . Memory usage      : 338.4 kB (before), 338.4 kB (after)\n",
      " ! Using parallel search with 8 workers.\n",
      " ! ----------------------------------------------------------------------------\n",
      " !               Branches  Non-fixed    W       Branch decision\n",
      " *                      3  0.03s        1         1  = numberSolution_2\n",
      " ! ----------------------------------------------------------------------------\n",
      " ! Search completed, 1 solution found.\n",
      " ! ----------------------------------------------------------------------------\n",
      " ! Number of branches     : 51\n",
      " ! Number of fails        : 10\n",
      " ! Total memory usage     : 11.7 MB (11.7 MB CP Optimizer + 0.1 MB Concert)\n",
      " ! Time spent in solve    : 0.04s (0.02s engine + 0.03s extraction)\n",
      " ! Search speed (br. / s) : 4636.4\n",
      " ! ----------------------------------------------------------------------------\n",
      "chase\n",
      "['?', '?', '$', '$', '$']\n",
      " ! --------------------------------------------------- CP Optimizer 22.1.0.0 --\n",
      " ! Satisfiability problem - 187 variables, 195 constraints\n",
      " ! Initial process time : 0.03s (0.03s extraction + 0.00s propagation)\n",
      " !  . Log search space  : 14.0 (before), 14.0 (after)\n",
      " !  . Memory usage      : 341.3 kB (before), 341.3 kB (after)\n",
      " ! Using parallel search with 8 workers.\n",
      " ! ----------------------------------------------------------------------------\n",
      " !               Branches  Non-fixed    W       Branch decision\n",
      " *                      4  0.03s        1        24  = w_1\n",
      " ! ----------------------------------------------------------------------------\n",
      " ! Search completed, 1 solution found.\n",
      " ! ----------------------------------------------------------------------------\n",
      " ! Number of branches     : 41\n",
      " ! Number of fails        : 10\n",
      " ! Total memory usage     : 12.4 MB (12.4 MB CP Optimizer + 0.1 MB Concert)\n",
      " ! Time spent in solve    : 0.04s (0.02s engine + 0.03s extraction)\n",
      " ! Search speed (br. / s) : 4100.0\n",
      " ! ----------------------------------------------------------------------------\n",
      "lyase\n",
      "['?', '?', '$', '$', '$']\n",
      " ! --------------------------------------------------- CP Optimizer 22.1.0.0 --\n",
      " ! Satisfiability problem - 239 variables, 249 constraints\n",
      " ! Initial process time : 0.03s (0.03s extraction + 0.01s propagation)\n",
      " !  . Log search space  : 7.3 (before), 7.3 (after)\n",
      " !  . Memory usage      : 352.4 kB (before), 352.4 kB (after)\n",
      " ! Using parallel search with 8 workers.\n",
      " ! ----------------------------------------------------------------------------\n",
      " !               Branches  Non-fixed    W       Branch decision\n",
      " *                      2  0.04s        1         1  = numberSolution_12\n",
      " ! ----------------------------------------------------------------------------\n",
      " ! Search completed, 1 solution found.\n",
      " ! ----------------------------------------------------------------------------\n",
      " ! Number of branches     : 37\n",
      " ! Number of fails        : 10\n",
      " ! Total memory usage     : 13.1 MB (13.0 MB CP Optimizer + 0.1 MB Concert)\n",
      " ! Time spent in solve    : 0.04s (0.02s engine + 0.03s extraction)\n",
      " ! Search speed (br. / s) : 3083.3\n",
      " ! ----------------------------------------------------------------------------\n",
      "mease\n",
      "['?', '$', '$', '$', '$']\n",
      " ! --------------------------------------------------- CP Optimizer 22.1.0.0 --\n",
      " ! Satisfiability problem - 291 variables, 303 constraints\n",
      " ! Initial process time : 0.03s (0.03s extraction + 0.00s propagation)\n",
      " !  . Log search space  : 6.0 (before), 6.0 (after)\n",
      " !  . Memory usage      : 355.4 kB (before), 355.4 kB (after)\n",
      " ! Using parallel search with 8 workers.\n",
      " ! ----------------------------------------------------------------------------\n",
      " !               Branches  Non-fixed    W       Branch decision\n",
      " *                      2  0.04s        1         2  = numberSolution_18\n",
      " ! ----------------------------------------------------------------------------\n",
      " ! Search completed, 1 solution found.\n",
      " ! ----------------------------------------------------------------------------\n",
      " ! Number of branches     : 38\n",
      " ! Number of fails        : 10\n",
      " ! Total memory usage     : 13.6 MB (13.5 MB CP Optimizer + 0.1 MB Concert)\n",
      " ! Time spent in solve    : 0.04s (0.02s engine + 0.03s extraction)\n",
      " ! Search speed (br. / s) : 3166.7\n",
      " ! ----------------------------------------------------------------------------\n",
      "sease\n",
      "['?', '$', '$', '$', '$']\n",
      " ! --------------------------------------------------- CP Optimizer 22.1.0.0 --\n",
      " ! Satisfiability problem - 343 variables, 357 constraints\n",
      " ! Initial process time : 0.01s (0.01s extraction + 0.00s propagation)\n",
      " !  . Log search space  : 869.3 (before), 869.3 (after)\n",
      " !  . Memory usage      : 390.3 kB (before), 390.3 kB (after)\n",
      " ! Using parallel search with 8 workers.\n",
      " ! ----------------------------------------------------------------------------\n",
      " !               Branches  Non-fixed    W       Branch decision\n",
      " ! ----------------------------------------------------------------------------\n",
      " ! Search completed, model has no solution.\n",
      " ! ----------------------------------------------------------------------------\n",
      " ! Number of branches     : 0\n",
      " ! Number of fails        : 0\n",
      " ! Total memory usage     : 11.7 MB (11.7 MB CP Optimizer + 0.1 MB Concert)\n",
      " ! Time spent in solve    : 0.02s (0.01s engine + 0.01s extraction)\n",
      " ! ----------------------------------------------------------------------------\n"
     ]
    },
    {
     "ename": "TypeError",
     "evalue": "'NoneType' object is not subscriptable",
     "output_type": "error",
     "traceback": [
      "\u001B[1;31m---------------------------------------------------------------------------\u001B[0m",
      "\u001B[1;31mTypeError\u001B[0m                                 Traceback (most recent call last)",
      "Cell \u001B[1;32mIn[122], line 1\u001B[0m\n\u001B[1;32m----> 1\u001B[0m \u001B[43mplay\u001B[49m\u001B[43m(\u001B[49m\u001B[43m)\u001B[49m\n",
      "Cell \u001B[1;32mIn[121], line 10\u001B[0m, in \u001B[0;36mplay\u001B[1;34m(manual_score)\u001B[0m\n\u001B[0;32m      8\u001B[0m n\u001B[38;5;241m=\u001B[39m\u001B[38;5;241m0\u001B[39m\n\u001B[0;32m      9\u001B[0m \u001B[38;5;28;01mwhile\u001B[39;00m \u001B[38;5;28;01mTrue\u001B[39;00m:\n\u001B[1;32m---> 10\u001B[0m     guess \u001B[38;5;241m=\u001B[39m \u001B[43mcp_model\u001B[49m\u001B[43m(\u001B[49m\u001B[43mvalid_words\u001B[49m\u001B[43m,\u001B[49m\u001B[43m \u001B[49m\u001B[43mguess_outcomes\u001B[49m\u001B[43m)\u001B[49m\n\u001B[0;32m     11\u001B[0m     \u001B[38;5;28mprint\u001B[39m(guess)\n\u001B[0;32m     12\u001B[0m     output \u001B[38;5;241m=\u001B[39m score(guess, todays_word)\n",
      "Cell \u001B[1;32mIn[120], line 60\u001B[0m, in \u001B[0;36mcp_model\u001B[1;34m(valid_words, guess_outcomes)\u001B[0m\n\u001B[0;32m     57\u001B[0m num \u001B[38;5;241m=\u001B[39m mGuess\u001B[38;5;241m.\u001B[39mget_all_var_solutions()\n\u001B[0;32m     59\u001B[0m \u001B[38;5;28;01mfor\u001B[39;00m i \u001B[38;5;129;01min\u001B[39;00m \u001B[38;5;28mrange\u001B[39m(num_pos):\n\u001B[1;32m---> 60\u001B[0m     mGuessStr \u001B[38;5;241m+\u001B[39m\u001B[38;5;241m=\u001B[39m \u001B[38;5;28mchr\u001B[39m(\u001B[43mnum\u001B[49m\u001B[43m[\u001B[49m\u001B[43mi\u001B[49m\u001B[43m]\u001B[49m\u001B[38;5;241m.\u001B[39mget_value() \u001B[38;5;241m+\u001B[39m \u001B[38;5;241m97\u001B[39m)\n\u001B[0;32m     61\u001B[0m \u001B[38;5;28;01mreturn\u001B[39;00m mGuessStr\n",
      "\u001B[1;31mTypeError\u001B[0m: 'NoneType' object is not subscriptable"
     ]
    }
   ],
   "source": [
    "play()"
   ],
   "metadata": {
    "collapsed": false,
    "ExecuteTime": {
     "end_time": "2024-06-14T05:19:26.553386400Z",
     "start_time": "2024-06-14T05:19:25.189576Z"
    }
   },
   "id": "2e2b327b3258b520",
   "execution_count": 122
  },
  {
   "cell_type": "code",
   "outputs": [],
   "source": [],
   "metadata": {
    "collapsed": false
   },
   "id": "5755c90a2e719232"
  }
 ],
 "metadata": {
  "kernelspec": {
   "display_name": "Python 3",
   "language": "python",
   "name": "python3"
  },
  "language_info": {
   "codemirror_mode": {
    "name": "ipython",
    "version": 2
   },
   "file_extension": ".py",
   "mimetype": "text/x-python",
   "name": "python",
   "nbconvert_exporter": "python",
   "pygments_lexer": "ipython2",
   "version": "2.7.6"
  }
 },
 "nbformat": 4,
 "nbformat_minor": 5
}
