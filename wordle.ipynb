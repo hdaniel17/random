{
 "cells": [
  {
   "cell_type": "markdown",
   "source": [
    "# Wordle\n",
    "\n",
    "Solving Wordle with constraint programming. This uses a valid word list, but many of those are unlikely to be actually used.\n",
    "\n",
    "Keeps green letters, uses yellow in a different location, and doesn't use gray letters more than the number of greens/yellows for that color.\n",
    "\n",
    "Constraints/variables needs to be cleaned up. "
   ],
   "metadata": {
    "collapsed": false
   },
   "id": "c4d4d0e82cc53793"
  },
  {
   "cell_type": "code",
   "execution_count": 374,
   "id": "initial_id",
   "metadata": {
    "collapsed": true,
    "ExecuteTime": {
     "end_time": "2024-06-14T19:30:43.252822100Z",
     "start_time": "2024-06-14T19:30:43.248597900Z"
    }
   },
   "outputs": [],
   "source": [
    "import random\n",
    "import numpy as np\n",
    "from docplex.cp.model import CpoModel"
   ]
  },
  {
   "cell_type": "code",
   "outputs": [],
   "source": [
    "def score(guess, todays_word):\n",
    "    score = ['?'] * 5  # Initialize as gray letters (?)\n",
    "    todays_word = list(todays_word)\n",
    "    \n",
    "    for i in range(5):  # Green letters ($)\n",
    "        if guess[i] == todays_word[i]:\n",
    "            todays_word[i] = '$'\n",
    "            score[i] = '$'\n",
    "            \n",
    "    for i in range(5):  # Yellow letters (%)\n",
    "        if score[i] != '$' and guess[i] in todays_word:\n",
    "            score[i] = '%'\n",
    "            replace_index = ''.join(todays_word).find(guess[i])\n",
    "            todays_word[replace_index] = '%'\n",
    "            \n",
    "    return score"
   ],
   "metadata": {
    "collapsed": false,
    "ExecuteTime": {
     "end_time": "2024-06-14T19:30:43.274822300Z",
     "start_time": "2024-06-14T19:30:43.257485400Z"
    }
   },
   "id": "8ecea5103076f5e8",
   "execution_count": 375
  },
  {
   "cell_type": "code",
   "outputs": [],
   "source": [
    "def cp_model(valid_words, guess_outcomes):\n",
    "    if not guess_outcomes:  # Initial Guess \n",
    "        return 'arose'\n",
    "    \n",
    "    num_letters = 26\n",
    "    num_pos = 5\n",
    "    num_guesses = len(guess_outcomes)\n",
    "    \n",
    "    guess_hist = [[ord(letter) - 97 for letter in list(prev[0])] for prev in guess_outcomes]\n",
    "    \n",
    "    num_correct = [prev[1].count('$') for prev in guess_outcomes]\n",
    "    num_present = [prev[1].count('%') for prev in guess_outcomes]\n",
    "    \n",
    "    num_l_right = []\n",
    "    num_l_pres = []\n",
    "    num_l_wrong = []\n",
    "    \n",
    "    for letter in range(num_letters):\n",
    "        indices = [index for index, value in enumerate(guess_hist[-1]) if value == letter]\n",
    "        matching_elements = [guess_outcomes[-1][1][index] for index in indices]\n",
    "        num_l_right.append(matching_elements.count('$'))\n",
    "        num_l_pres.append(matching_elements.count('%'))\n",
    "        num_l_wrong.append(matching_elements.count('?'))\n",
    "    \n",
    "    m = CpoModel()\n",
    "\n",
    "    # Decision Variables\n",
    "    w = m.integer_var_list(num_pos, min=0, max=num_letters-1, name='w')  # Guess\n",
    "    numberSolution = m.integer_var_list(num_letters,min=0,max=3, name=\"numberSolution\")  # Max is 3 bc no 5-letter word has a letter 4+ times\n",
    "    numberLetterPresent = m.integer_var_dict(((g,l) for g in range(num_guesses) for l in range(num_letters)),min=0,max=num_pos,name=\"numberLetterPresent\")\n",
    "    numberLetterRight = m.integer_var_dict(((g,l) for g in range(num_guesses) for l in range(num_letters)),min=0,max=num_pos,name=\"numberLetterRight\")\n",
    "\n",
    "    # Constraints\n",
    "    # Guesses are in the word list and not already guessed\n",
    "    m.add(m.allowed_assignments(w, [[ord(letter) - 97 for letter in list(word)] for word in valid_words]))\n",
    "    m.add(m.forbidden_assignments(w, guess_hist))\n",
    "    \n",
    "    # Keep correct responses\n",
    "    for p in range(num_pos):\n",
    "        g = num_guesses - 1 \n",
    "        if guess_outcomes[g][1][p] == '$':\n",
    "            m.add(w[p] == guess_hist[g][p])\n",
    "    \n",
    "    # Guess does not repeat any yellow/grays for a given position\n",
    "    for g in range(num_guesses):        \n",
    "        for p in range(num_pos):\n",
    "            if guess_outcomes[g][1][p] != '$':\n",
    "                m.add(w[p] != guess_hist[g][p])\n",
    "    \n",
    "    \n",
    "    # How many appearances a letter can have in the guess\n",
    "    for l in range(num_letters):\n",
    "        if num_l_wrong[l] > 0:  # If we get a gray, the number of times that letter can appear\n",
    "            m.add(numberSolution[l] == num_l_right[l] + num_l_pres[l])\n",
    "        else:  # Otherwise at least that number\n",
    "            m.add(numberSolution[l] >= num_l_right[l] + num_l_pres[l])\n",
    "\n",
    "    for guess in range(num_guesses):\n",
    "        # Correct number of correct letters\n",
    "        m.add(m.sum((w[p] == guess_hist[guess][p]) * 1 for p in range(5)) == num_correct[guess])\n",
    "        # Correct number of present letters\n",
    "        m.add(m.sum((numberLetterPresent[guess,letter] >= 1) for letter in range(num_letters)) == num_present[guess])\n",
    "\n",
    "    for letter in range(num_letters):\n",
    "        # Number of times a letter appears in the solution\n",
    "        m.add(numberSolution[letter] == m.sum(w[p] == letter for p in range(5)))\n",
    "\n",
    "    for guess in range(num_guesses):\n",
    "        for letter in range(num_letters):\n",
    "            # Number of times a letter in the guess is present\n",
    "            m.add(numberLetterPresent[guess,letter] == m.sum(((guess_hist[guess][p] == letter) & (w[p] != letter) & (numberSolution[letter] > numberLetterRight[guess, letter])) * 1 for p in range(num_pos)))\n",
    "            # Number of times a letter in the guess is correct\n",
    "            m.add(numberLetterRight[guess,letter] == m.sum(((guess_hist[guess][p] == letter) & (w[p] == letter)) * 1 for p in range(num_pos)))\n",
    "\n",
    "    # Solve\n",
    "    mGuess = m.solve(LogVerbosity='Quiet')\n",
    "    mGuessStr = \"\"\n",
    "    #print(m.export_as_cpo())\n",
    "    num = mGuess.get_all_var_solutions()\n",
    "    for i in range(num_pos):\n",
    "        mGuessStr += chr(num[i].get_value() + 97)\n",
    "    \n",
    "    return mGuessStr"
   ],
   "metadata": {
    "collapsed": false,
    "ExecuteTime": {
     "end_time": "2024-06-14T19:30:43.277702200Z",
     "start_time": "2024-06-14T19:30:43.270546400Z"
    }
   },
   "id": "31974a585d859d45",
   "execution_count": 376
  },
  {
   "cell_type": "code",
   "outputs": [],
   "source": [
    "def play(manual_score=False):\n",
    "    valid_words = list(set(open('Data/wordle_valid_guesses.txt').read().lower().splitlines()))\n",
    "    \n",
    "    if not manual_score:\n",
    "        todays_word = random.choice(valid_words)\n",
    "        print(todays_word)\n",
    "    guess_outcomes = []\n",
    "    n=0\n",
    "    while True:  # n < 6\n",
    "        guess = cp_model(valid_words, guess_outcomes)\n",
    "\n",
    "        if not manual_score:\n",
    "            print(guess)\n",
    "            output = score(guess, todays_word)\n",
    "        else:\n",
    "            user_score = input(f'Guess is {guess}, enter score with $ for green, % for yellow, and ? for gray')\n",
    "            output = list(user_score)\n",
    "        print(output)\n",
    "        if output == list('$$$$$'):  # $ - green, ? - gray, % - yellow\n",
    "            break\n",
    "        guess_outcomes.append((guess, output))\n",
    "        n += 1\n",
    "            \n",
    "    return n + 1"
   ],
   "metadata": {
    "collapsed": false,
    "ExecuteTime": {
     "end_time": "2024-06-14T19:30:43.302115Z",
     "start_time": "2024-06-14T19:30:43.280014700Z"
    }
   },
   "id": "8974c7762675968f",
   "execution_count": 377
  },
  {
   "cell_type": "code",
   "outputs": [
    {
     "name": "stdout",
     "output_type": "stream",
     "text": [
      "ambry\n",
      "arose\n",
      "['$', '%', '?', '?', '?']\n",
      "adraw\n",
      "['$', '?', '%', '?', '?']\n",
      "augur\n",
      "['$', '?', '?', '?', '%']\n",
      "ambry\n",
      "['$', '$', '$', '$', '$']\n"
     ]
    },
    {
     "data": {
      "text/plain": "4"
     },
     "execution_count": 378,
     "metadata": {},
     "output_type": "execute_result"
    }
   ],
   "source": [
    "play()"
   ],
   "metadata": {
    "collapsed": false,
    "ExecuteTime": {
     "end_time": "2024-06-14T19:30:43.785989Z",
     "start_time": "2024-06-14T19:30:43.293431100Z"
    }
   },
   "id": "189351e56a60d4b9",
   "execution_count": 378
  },
  {
   "cell_type": "code",
   "outputs": [],
   "source": [],
   "metadata": {
    "collapsed": false,
    "ExecuteTime": {
     "end_time": "2024-06-14T19:30:43.788625100Z",
     "start_time": "2024-06-14T19:30:43.787029800Z"
    }
   },
   "id": "52f0258f6a1c39da",
   "execution_count": 378
  }
 ],
 "metadata": {
  "kernelspec": {
   "display_name": "Python 3",
   "language": "python",
   "name": "python3"
  },
  "language_info": {
   "codemirror_mode": {
    "name": "ipython",
    "version": 2
   },
   "file_extension": ".py",
   "mimetype": "text/x-python",
   "name": "python",
   "nbconvert_exporter": "python",
   "pygments_lexer": "ipython2",
   "version": "2.7.6"
  }
 },
 "nbformat": 4,
 "nbformat_minor": 5
}
