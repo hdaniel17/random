{
 "cells": [
  {
   "cell_type": "markdown",
   "source": [
    "## Wordle"
   ],
   "metadata": {
    "collapsed": false
   },
   "id": "c4d4d0e82cc53793"
  },
  {
   "cell_type": "code",
   "execution_count": 75,
   "id": "initial_id",
   "metadata": {
    "collapsed": true,
    "ExecuteTime": {
     "end_time": "2024-06-14T04:42:46.537379300Z",
     "start_time": "2024-06-14T04:42:46.523225400Z"
    }
   },
   "outputs": [],
   "source": [
    "import pandas as pd\n",
    "import random\n",
    "import numpy as np\n",
    "from docplex.cp.model import CpoModel"
   ]
  },
  {
   "cell_type": "code",
   "outputs": [],
   "source": [
    "def score(guess, todays_word):\n",
    "    score = ['?'] * 5  # X represents gray\n",
    "    todays_word = list(todays_word)\n",
    "    \n",
    "    for i in range(5):  # Green letters first ($)\n",
    "        if guess[i] == todays_word[i]:\n",
    "            todays_word[i] = '$'\n",
    "            score[i] = '$'\n",
    "            \n",
    "    for i in range(5):  # Yellow letters (%)\n",
    "        if score[i] != '$' and guess[i] in todays_word:\n",
    "            score[i] = '%'\n",
    "            replace_index = ''.join(todays_word).find(guess[i])\n",
    "            todays_word[replace_index] = '%'  # This should not be i but whatever index matches\n",
    "            \n",
    "    return score"
   ],
   "metadata": {
    "collapsed": false,
    "ExecuteTime": {
     "end_time": "2024-06-14T05:02:00.437789400Z",
     "start_time": "2024-06-14T05:02:00.435792300Z"
    }
   },
   "id": "8ecea5103076f5e8",
   "execution_count": 98
  },
  {
   "cell_type": "code",
   "outputs": [],
   "source": [
    "def cp_model(valid_words, guess_outcomes):\n",
    "    if not guess_outcomes:  # Initial Guess \n",
    "        return 'arose'\n",
    "    \n",
    "    num_letters = 26\n",
    "    num_pos = 5\n",
    "    num_guesses = len(guess_outcomes)\n",
    "    \n",
    "    guess_hist = [[ord(letter) - 97 for letter in list(prev[0])] for prev in guess_outcomes]\n",
    "    \n",
    "    num_correct = [prev[1].count('$') for prev in guess_outcomes]\n",
    "    num_present = [prev[1].count('%') for prev in guess_outcomes]\n",
    "    \n",
    "    m = CpoModel()\n",
    "    \n",
    "    # Decision Variables\n",
    "    w = m.integer_var_list(num_pos, min=0, max=num_letters-1, name='w')  # Guess\n",
    "    numberSolution = m.integer_var_list(num_letters,min=0,max=4, name=\"numberSolution\")  # Max is 4 bc no 5 letter word is all 1 character (probably actually 3)\n",
    "    numberLetterPresent = m.integer_var_dict(((g,l) for g in range(num_guesses) for l in range(num_letters)),min=0,max=num_pos,name=\"numberLetterPresent\")\n",
    "    numberLetterRight = m.integer_var_dict(((g,l) for g in range(num_guesses) for l in range(num_letters)),min=0,max=num_pos,name=\"numberLetterRight\")\n",
    "    # test = m.integer_var_list(num_pos,min=0,max=num_letters-1,name=\"test\")\n",
    "    \n",
    "    # Constraints\n",
    "    # Guesses are in the word list and not already guessed\n",
    "    m.add(m.allowed_assignments(w, [[ord(letter) - 97 for letter in list(word)] for word in valid_words]))\n",
    "    m.add(m.forbidden_assignments(w, guess_hist))\n",
    "    \n",
    "    for p in range(num_pos):\n",
    "        if guess_outcomes[-1][1][p] == '$':\n",
    "            m.add(w[p] == guess_hist[-1][p])\n",
    "    \n",
    "    for guess in range(num_guesses):\n",
    "        # Correct number of correct letters\n",
    "        m.add(m.sum((w[p] == guess_hist[guess][p]) * 1 for p in range(5)) == num_correct[guess])\n",
    "        # Correct number of present letters\n",
    "        m.add(m.sum((numberLetterPresent[guess,letter] >= 1) for letter in range(num_letters)) == num_present[guess])\n",
    "    \n",
    "    for letter in range(num_letters):\n",
    "        # Number of times a letter appears in the solution\n",
    "        m.add(numberSolution[letter] == m.sum(w[p] == letter for p in range(5)))\n",
    "    \n",
    "    for guess in range(num_guesses):\n",
    "        for letter in range(num_letters):\n",
    "            # Number of times a letter in the guess is present\n",
    "            m.add(numberLetterPresent[guess,letter] == m.sum(((guess_hist[guess][p] == letter) & (w[p] != letter) & (numberSolution[letter] > numberLetterRight[guess, letter])) * 1 for p in range(num_pos)))\n",
    "            # Number of times a letter in the guess is correct\n",
    "            m.add(numberLetterRight[guess,letter] == m.sum(((guess_hist[guess][p] == letter) & (w[p] == letter)) * 1 for p in range(num_pos)))\n",
    "  \n",
    "\n",
    "    # Solve\n",
    "    mGuess = m.solve(LogVerbosity='Quiet')\n",
    "    mGuessStr = \"\"\n",
    "    num = mGuess.get_all_var_solutions()\n",
    "    \n",
    "    for i in range(num_pos):\n",
    "        mGuessStr += chr(num[i].get_value() + 97)\n",
    "    return mGuessStr"
   ],
   "metadata": {
    "collapsed": false,
    "ExecuteTime": {
     "end_time": "2024-06-14T05:04:07.531432Z",
     "start_time": "2024-06-14T05:04:07.521405800Z"
    }
   },
   "id": "7de5723219f197b5",
   "execution_count": 105
  },
  {
   "cell_type": "code",
   "outputs": [],
   "source": [
    "def play(manual_score=False):\n",
    "    valid_words = list(set(open('Data/wordle_valid_guesses.txt').read().lower().splitlines()))\n",
    "    \n",
    "    if not manual_score:\n",
    "        todays_word = random.choice(valid_words)\n",
    "        print(todays_word)\n",
    "        guess_outcomes = []\n",
    "        n=0\n",
    "        while True:\n",
    "            guess = cp_model(valid_words, guess_outcomes)\n",
    "            print(guess)\n",
    "            output = score(guess, todays_word)\n",
    "            print(output)\n",
    "            if output == list('$$$$$'):  # $ - green, ? - gray, % - yellow\n",
    "                break\n",
    "            guess_outcomes.append((guess, output))\n",
    "            n += 1\n",
    "            \n",
    "    return n"
   ],
   "metadata": {
    "collapsed": false,
    "ExecuteTime": {
     "end_time": "2024-06-14T05:04:08.038360300Z",
     "start_time": "2024-06-14T05:04:08.034848500Z"
    }
   },
   "id": "8974c7762675968f",
   "execution_count": 106
  },
  {
   "cell_type": "code",
   "outputs": [
    {
     "name": "stdout",
     "output_type": "stream",
     "text": [
      "pyral\n",
      "arose\n",
      "['%', '%', '?', '?', '?']\n",
      "okrug\n",
      "['?', '?', '$', '?', '?']\n",
      "mirah\n",
      "['?', '?', '$', '$', '?']\n",
      "ydrad\n",
      "['%', '?', '$', '$', '?']\n",
      "tyran\n",
      "['?', '$', '$', '$', '?']\n",
      "pyral\n",
      "['$', '$', '$', '$', '$']\n"
     ]
    },
    {
     "data": {
      "text/plain": "5"
     },
     "execution_count": 111,
     "metadata": {},
     "output_type": "execute_result"
    }
   ],
   "source": [
    "play()"
   ],
   "metadata": {
    "collapsed": false,
    "ExecuteTime": {
     "end_time": "2024-06-14T05:06:41.823189800Z",
     "start_time": "2024-06-14T05:06:40.687757400Z"
    }
   },
   "id": "2e2b327b3258b520",
   "execution_count": 111
  },
  {
   "cell_type": "code",
   "outputs": [],
   "source": [],
   "metadata": {
    "collapsed": false
   },
   "id": "5755c90a2e719232"
  }
 ],
 "metadata": {
  "kernelspec": {
   "display_name": "Python 3",
   "language": "python",
   "name": "python3"
  },
  "language_info": {
   "codemirror_mode": {
    "name": "ipython",
    "version": 2
   },
   "file_extension": ".py",
   "mimetype": "text/x-python",
   "name": "python",
   "nbconvert_exporter": "python",
   "pygments_lexer": "ipython2",
   "version": "2.7.6"
  }
 },
 "nbformat": 4,
 "nbformat_minor": 5
}
